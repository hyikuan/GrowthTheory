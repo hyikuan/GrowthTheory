{
 "cells": [
  {
   "cell_type": "markdown",
   "metadata": {},
   "source": [
    "# Setting Up Your Environment\n",
    "\n",
    "鉴于我给这篇文档的定位应该是及其初学者友好的，就让我们从构建编程环境开始吧！ Let's go!\n",
    "\n",
    "## First step\n",
    "\n",
    "我们先下载最流行的 Python distribution: Anaconda. 点击链接跳转官网：————\n",
    "\n",
    "Python 流行的发行版本有很多，但我们强烈推荐此版本，为什么呢？我们知道，Python 的强大之处不仅仅在于其语言之灵活与严谨（至少对比别的统计软件要严谨得多，尽管习惯了 C/C++ 或者其它强类型语言的人往往对 Python 的“不严谨”感到不适），还在于其庞大的开发者社区以及众多可用的拓展包。下载 Python 的核心编译器是很简单的，但是构建一个完整的开发环境远不止这一点。我们还要管理这些拓展包、建造一个舒适的 coding 界面、使用其它开发工具并进行互动等。而这些琐事对初学者来说是不友好而且很没必要的。因此我们选择一个集大成者————对它就是 Anaconda！\n",
    "\n",
    "Anaconda 提供的功能非常强大！但其中许多功能对入门 Python 不是必要的，我们仅介绍下文中会一直使用的 Jupiter Notebook ，其它功能就等待大家的探索啦！\n",
    "\n",
    "## Jupiter\n",
    "\n",
    "Python 是解释型语言，用人话来说就是我们可以一边 coding 一边执行，一遍构造自己的思路边看运行结果，这不同于 C++ 等编译型语言，总要等编译器从头到尾编译一遍，生成可执行文件（*.exe）再运行之查看结果。这就为交互式编程提供了可能，Jupiter Notebook 就是这样一个交互式编程界面。交互式编程界面到底是什么样呢？看看本文档你就知道了。这篇文档是全部用 Jupiter Notebook 写的，一边写程序，一边码文档。\n",
    "\n",
    "在安装好 Anaconda 之后， Jupiter 会自动安装，你可以在自己的程序列表里找到他。打开之后会自动跳出浏览器， Jupiter便成功运行了。如果你总觉得界面看起来有点奇怪，那可能是浏览器的问题，建议使用谷歌浏览器。\n",
    "\n",
    "请找到一个合适的工作目录， New 一个 Python3 Notebook ，可以开始编程之旅了。想要更多 Jupiter 的信息，这些网站可能会提供帮助。"
   ]
  }
 ],
 "metadata": {
  "kernelspec": {
   "display_name": "Python 3",
   "language": "python",
   "name": "python3"
  },
  "language_info": {
   "codemirror_mode": {
    "name": "ipython",
    "version": 3
   },
   "file_extension": ".py",
   "mimetype": "text/x-python",
   "name": "python",
   "nbconvert_exporter": "python",
   "pygments_lexer": "ipython3",
   "version": "3.7.0"
  }
 },
 "nbformat": 4,
 "nbformat_minor": 2
}
