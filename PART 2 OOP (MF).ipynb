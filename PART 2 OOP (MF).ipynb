{
 "cells": [
  {
   "cell_type": "markdown",
   "metadata": {},
   "source": [
    "# More features of OOP\n",
    "\n",
    "## Python3 面向对象\n",
    "\n",
    "Python从设计之初就已经是一门面向对象的语言，正因为如此，在Python中创建一个类和对象是很容易的。接下来我们先来简单的了解下面向对象的一些基本特征。\n",
    "\n",
    "- **类(Class)：** 用来描述具有相同的属性和方法的对象的集合。它定义了该集合中每个对象所共有的属性和方法。对象是类的实例。\n",
    "\n",
    "\n",
    "- **类变量：**类变量在整个实例化的对象中是公用的。类变量定义在类中且在函数体之外。类变量通常不作为实例变量使用。\n",
    "\n",
    "\n",
    "- **数据成员：**类变量或者实例变量用于处理类及其实例对象的相关的数据。\n",
    "\n",
    "\n",
    "- **方法重写：**如果从父类继承的方法不能满足子类的需求，可以对其进行改写，这个过程叫方法的覆盖（override），也称为方法的重写。\n",
    "\n",
    "\n",
    "- **实例变量：**定义在方法中的变量，只作用于当前实例的类。\n",
    "\n",
    "\n",
    "- **继承：**即一个派生类（derived class）继承基类（base class）的字段和方法。继承也允许把一个派生类的对象作为一个基类对象对待。例如，有这样一个设计：一个Dog类型的对象派生自Animal类，所以Dog也是一个Animal。\n",
    "\n",
    "\n",
    "- **实例化：**创建一个类的实例，类的具体对象。\n",
    "\n",
    "\n",
    "- **方法：**类中定义的函数。\n",
    "\n",
    "\n",
    "- **对象：**通过类定义的数据结构实例。对象包括两个数据成员（类变量和实例变量）和方法。\n",
    "\n",
    "## 类的创建\n",
    "\n",
    "面向对象编程是一种编程方式，此编程方式的落地需要使用 “类” 和 “对象” 来实现，所以，面向对象编程其实就是对 “类” 和 “对象” 的使用。"
   ]
  },
  {
   "cell_type": "code",
   "execution_count": 13,
   "metadata": {},
   "outputs": [],
   "source": [
    "# 前文已提及，不再赘述\n",
    "# 等我有时间再补吧"
   ]
  },
  {
   "cell_type": "markdown",
   "metadata": {},
   "source": [
    "## 面向对象的三大特性\n",
    "\n",
    "指的是：封装、继承和多态\n",
    "\n",
    "### 封装\n",
    "\n",
    "封装，顾名思义就是将内容封装到某个地方，以后再去调用被封装在某处的内容。\n",
    "\n",
    "所以，在使用面向对象的封装特性时，需要：\n",
    "\n",
    "- 将内容封装到某处\n",
    "- 从某处调用被封装的内容"
   ]
  },
  {
   "cell_type": "code",
   "execution_count": 1,
   "metadata": {},
   "outputs": [],
   "source": [
    "class Foo:\n",
    "    \n",
    "    def __init__(self, name, age):\n",
    "        self.name = name\n",
    "        self.age = age\n",
    "        \n",
    "obj1 = Foo('YK', 18) # 实现数据和字符的封装\n",
    "obj2 = Foo('KY', 81) # 封装到所创建的对象中"
   ]
  },
  {
   "cell_type": "markdown",
   "metadata": {},
   "source": [
    "访问被封装的内容时，可以\n",
    "1. 通过对象直接调用\n",
    "2. 通过 self 间接调用"
   ]
  },
  {
   "cell_type": "markdown",
   "metadata": {},
   "source": [
    "### 继承\n",
    "\n",
    "为了避免重复编程，可以从一众类中抽象出一个广义的具有某些共性的类作为父类，然后从那里继承我们要的特性。\n"
   ]
  },
  {
   "cell_type": "code",
   "execution_count": 7,
   "metadata": {},
   "outputs": [],
   "source": [
    "# 如何使用面向对象编程的继承特性呢？\n",
    "\n",
    "# 首先定义一个抽象的父类\n",
    "class Animal:\n",
    "\n",
    "    def eat(self):\n",
    "        print(\"%s 吃 \" %self.name)\n",
    "\n",
    "    def drink(self):\n",
    "        print(\"%s 喝 \" %self.name) \n",
    "\n",
    "    def shit(self):\n",
    "        print(\"%s 拉 \" %self.name) \n",
    "\n",
    "    def pee(self):\n",
    "        print(\"%s 撒 \" %self.name) \n",
    "\n",
    "# 定义一个子类\n",
    "class Cat(Animal): # 把父类作为定义类时的参数\n",
    "\n",
    "    # 尽管在这里只定义了两个方法，实际上它却继承了Animal所有的方法\n",
    "    def __init__(self, name):\n",
    "        self.name = name\n",
    "        self.breed = 'Cat'\n",
    "\n",
    "    def cry(self):\n",
    "        print('喵喵叫')\n",
    "\n",
    "# 和上面相同\n",
    "class Dog(Animal):\n",
    "    \n",
    "    def __init__(self, name):\n",
    "        self.name = name\n",
    "        self.breed = '狗'\n",
    "        \n",
    "    def cry(self):\n",
    "        print('汪汪叫')"
   ]
  },
  {
   "cell_type": "code",
   "execution_count": 10,
   "metadata": {},
   "outputs": [
    {
     "name": "stdout",
     "output_type": "stream",
     "text": [
      "kitty 吃 \n"
     ]
    }
   ],
   "source": [
    "catty = Cat(\"kitty\")\n",
    "catty.eat()"
   ]
  },
  {
   "cell_type": "markdown",
   "metadata": {},
   "source": [
    "那么问题来了，能否继承多个类呢？如果所继承的多各类中出现同名方法/属性，又会出什么问题呢？\n",
    "\n",
    "Python 是可以继承多个类的，如果出现同名问题，以第一个查找到的对象为准。查找方式分为两种：\n",
    "\n",
    "- 深度优先\n",
    "- 广度优先\n",
    "    - 懒得解释具体是啥了，自己查一下吧\n",
    "    \n",
    "当类是经典类时，按照深度优先进行查找；当类是新式类时，按照广度优先进行查找。\n"
   ]
  },
  {
   "cell_type": "markdown",
   "metadata": {},
   "source": [
    "**Question：**在C++中我们可以选择自由属性和共有属性，用人话来说就是哪些方法/属性可以被继承，而哪些不可以。那么在Python中要如何做到这一点呢？"
   ]
  },
  {
   "cell_type": "markdown",
   "metadata": {},
   "source": [
    "### 多态\n",
    "\n",
    "当父类和子类存在同样的方法时，在代码运行的时候总是会调用子类的方法。这样，我们就获得了继承的第二个好处：多态。在继承关系中，如果一个实例的数据类型是某个子类，那它的数据类型也可以被看做是父类。但是，反过来就不行。\n",
    " "
   ]
  },
  {
   "cell_type": "code",
   "execution_count": 12,
   "metadata": {},
   "outputs": [
    {
     "name": "stdout",
     "output_type": "stream",
     "text": [
      "True\n",
      "True\n",
      "True\n"
     ]
    }
   ],
   "source": [
    "print(isinstance(catty, Cat))\n",
    "print(isinstance(catty,Animal))\n",
    "\n",
    "ani = Animal()\n",
    "print(isinstance(ani,Animal))"
   ]
  },
  {
   "cell_type": "markdown",
   "metadata": {},
   "source": [
    "那么多态的作用是什么呢？如果一个函数把父类的实例作为参数。那么这个函数就可以在不加修改的基础上直接调用任何其子类。这就是著名的“开闭”原则：\n",
    "\n",
    "- 对扩展开放，允许增加子类\n",
    "- 对修改封闭，不需要修改以来父类的函数\n",
    "\n",
    "But Python can do more than that. Pyhon不支持Java和C#这一类强类型语言中多态的写法，但是原生多态，其Python崇尚“鸭子类型”。\n",
    "\n",
    "调用不同的子类将会产生不同的行为，而无须明确知道这个子类实际上是什么，这是多态的重要应用场景。而在python中，因为鸭子类型(duck typing)使得其多态不是那么酷。\n",
    "\n",
    "鸭子类型是动态类型的一种风格。在这种风格中，一个对象有效的语义，不是由继承自特定的类或实现特定的接口，而是由\"当前方法和属性的集合\"决定。这个概念的名字来源于由James Whitcomb Riley提出的鸭子测试，“鸭子测试”可以这样表述：“当看到一只鸟走起来像鸭子、游泳起来像鸭子、叫起来也像鸭子，那么这只鸟就可以被称为鸭子。\n",
    "”\n",
    "在鸭子类型中，关注的不是对象的类型本身，而是它是如何使用的。例如，在不使用鸭子类型的语言中，我们可以编写一个函数，它接受一个类型为\"鸭子\"的对象，并调用它的\"走\"和\"叫\"方法。在使用鸭子类型的语言中，这样的一个函数可以接受一个任意类型的对象，并调用它的\"走\"和\"叫\"方法。如果这些需要被调用的方法不存在，那么将引发一个运行时错误。任何拥有这样的正确的\"走\"和\"叫\"方法的对象都可被函数接受的这种行为引出了以上表述，这种决定类型的方式因此得名。\n",
    " \n",
    "但是使用鸭子类型要非常小心，因为**鸭子类型通常得益于不测试方法和函数中参数的类型，而是依赖文档、清晰的代码和测试来确保正确使用**。\n",
    " "
   ]
  }
 ],
 "metadata": {
  "kernelspec": {
   "display_name": "Python 3",
   "language": "python",
   "name": "python3"
  },
  "language_info": {
   "codemirror_mode": {
    "name": "ipython",
    "version": 3
   },
   "file_extension": ".py",
   "mimetype": "text/x-python",
   "name": "python",
   "nbconvert_exporter": "python",
   "pygments_lexer": "ipython3",
   "version": "3.7.0"
  }
 },
 "nbformat": 4,
 "nbformat_minor": 2
}
