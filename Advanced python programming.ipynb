{
 "cells": [
  {
   "cell_type": "markdown",
   "metadata": {},
   "source": [
    "# Object Oriented Programming\n",
    "- Object Oriented Programming\n",
    "    - Defining your own class\n",
    "    - Specify your own clases\n",
    "    - Special method"
   ]
  },
  {
   "cell_type": "code",
   "execution_count": 3,
   "metadata": {},
   "outputs": [
    {
     "data": {
      "text/plain": [
       "[1, 4, 5]"
      ]
     },
     "execution_count": 3,
     "metadata": {},
     "output_type": "execute_result"
    }
   ],
   "source": [
    "x = [1, 5, 4] # 赋值的同时创建了对象x，此类型对应的method可以被应用到x上\n",
    "x.sort()\n",
    "x"
   ]
  },
  {
   "cell_type": "code",
   "execution_count": 5,
   "metadata": {},
   "outputs": [
    {
     "data": {
      "text/plain": [
       "list"
      ]
     },
     "execution_count": 5,
     "metadata": {},
     "output_type": "execute_result"
    }
   ],
   "source": [
    "x.__class__ # __class__属性中存了一些数据(data)"
   ]
  },
  {
   "cell_type": "code",
   "execution_count": 6,
   "metadata": {},
   "outputs": [],
   "source": [
    "class consumer:\n",
    "    pass # stand in for an empty code block"
   ]
  },
  {
   "cell_type": "code",
   "execution_count": 7,
   "metadata": {},
   "outputs": [
    {
     "data": {
      "text/plain": [
       "10"
      ]
     },
     "execution_count": 7,
     "metadata": {},
     "output_type": "execute_result"
    }
   ],
   "source": [
    "c1 = consumer()\n",
    "c1.wealth = 10 # new attributes can be created on the fly\n",
    "c1.wealth"
   ]
  },
  {
   "cell_type": "code",
   "execution_count": 2,
   "metadata": {},
   "outputs": [],
   "source": [
    "class consumer:\n",
    "    \n",
    "    def __init__(self, w, name = 'anonymous'): # constructor method\n",
    "        \"Initialize consumer with w dallars of wealth\"\n",
    "        self.wealth = w\n",
    "        self.name = name\n",
    "        # whenever we create an instance of the calss\n",
    "        # this method will be called automatically\n",
    "    \n",
    "    def earn(self, y): # Any method defined within the class should have self as its first argument\n",
    "        self.wealth += y # Any method referenced within the class should be called as self.method_name\n",
    "        \n",
    "    def spend(self, x):\n",
    "        new_wealth = self.wealth - x\n",
    "        if new_wealth < 0:\n",
    "            print(\"Insufficent funds\")\n",
    "        else:\n",
    "            self.wealth = new_wealth"
   ]
  },
  {
   "cell_type": "code",
   "execution_count": 4,
   "metadata": {},
   "outputs": [
    {
     "data": {
      "text/plain": [
       "20"
      ]
     },
     "execution_count": 4,
     "metadata": {},
     "output_type": "execute_result"
    }
   ],
   "source": [
    "c1 = consumer(10)\n",
    "consumer.earn(c1, 10) # The standard expression\n",
    "c1.wealth"
   ]
  },
  {
   "cell_type": "code",
   "execution_count": 5,
   "metadata": {},
   "outputs": [
    {
     "name": "stdout",
     "output_type": "stream",
     "text": [
      "Insufficent funds\n"
     ]
    }
   ],
   "source": [
    "c1.earn(15)\n",
    "c1.spend(100)"
   ]
  },
  {
   "cell_type": "code",
   "execution_count": 6,
   "metadata": {},
   "outputs": [
    {
     "data": {
      "text/plain": [
       "{'wealth': 35, 'name': 'anonymous'}"
      ]
     },
     "execution_count": 6,
     "metadata": {},
     "output_type": "execute_result"
    }
   ],
   "source": [
    "c1.__dict__ # 用于查看该对象中存储的数据"
   ]
  },
  {
   "cell_type": "markdown",
   "metadata": {},
   "source": [
    "## The Solow Growth Model"
   ]
  },
  {
   "cell_type": "code",
   "execution_count": 8,
   "metadata": {},
   "outputs": [],
   "source": [
    "import numpy as np\n",
    "class Solow:\n",
    "    r\"\"\"\n",
    "    Implements the Solow growth model with update rule\n",
    "    .. math::\n",
    "    k_{t+1} = \\frac{s z k^{\\alpha}_t}{1 + n} + k_t \\frac{1 - d}{1 + n}\n",
    "    \"\"\"\n",
    "    def __init__(self, n, s, d, alpha, z, k):\n",
    "        self.n, self.s, self.d, self.alpha, self.z = n, s, d, alpha, z\n",
    "        self.k = k\n",
    "        \n",
    "    def h(self):\n",
    "        \"Evaluate the h function\"\n",
    "        temp = self.s * self.z * self.k**self.alpha + self.k * (1 - self.d)\n",
    "        return temp / (1 + self.n)\n",
    "    \n",
    "    def update(self):\n",
    "        \"Update the current state (i.e., the capital stock).\"\n",
    "        self.k = self.h()\n",
    "        \n",
    "    def steady_state(self):\n",
    "        \"Compute the steady state value of capital.\"\n",
    "        return ((self.s * self.z) / (self.n + self.d))**(1 / (1 - self.alpha))\n",
    "    \n",
    "    def generate_sequence(self, t):\n",
    "        \"Generate and return a time series of length t\"\n",
    "        path = []\n",
    "        for i in range(t):\n",
    "            path.append(self.k)\n",
    "            self.update()\n",
    "        return path"
   ]
  },
  {
   "cell_type": "code",
   "execution_count": 15,
   "metadata": {
    "scrolled": true
   },
   "outputs": [
    {
     "data": {
      "image/png": "[encoded data removed]",
      "text/plain": [
       "<Figure size 432x288 with 1 Axes>"
      ]
     },
     "metadata": {
      "needs_background": "light"
     },
     "output_type": "display_data"
    }
   ],
   "source": [
    "import matplotlib.pyplot as plt\n",
    "baseline_params = 0.05, 0.25, 0.1, 0.3, 2.0, 1.0\n",
    "s1 = Solow(*baseline_params) # The 'splat' operator * breaks up the tuple\n",
    "s2 = Solow(*baseline_params)\n",
    "s2.k = 8.0\n",
    "T = 60\n",
    "fig, ax = plt.subplots() ## TBD\n",
    "# Plot the common steady state value of capital\n",
    "ax.plot([s1.steady_state()]*T, 'k-', label='steady state')\n",
    "# Plot time series for each economy\n",
    "for s in s1, s2:\n",
    "    lb = 'capital series from initial state {}'.format(s.k)\n",
    "    ax.plot(s.generate_sequence(T), 'o-', lw=2, alpha=0.6, label=lb)\n",
    "    \n",
    "ax.legend(loc='lower right')\n",
    "plt.show()"
   ]
  },
  {
   "cell_type": "markdown",
   "metadata": {},
   "source": [
    "## Special Methods\n",
    "Python provides special methods with which some neat tricks can be performed."
   ]
  },
  {
   "cell_type": "code",
   "execution_count": 41,
   "metadata": {},
   "outputs": [],
   "source": [
    "class Foo:\n",
    "    \n",
    "    def __init__(self, u): # constructor method\n",
    "        self.u = u\n",
    "    \n",
    "    def __len__(self):\n",
    "        return 42\n",
    "    \n",
    "    def __call__(self, x):\n",
    "        return 42 + x"
   ]
  },
  {
   "cell_type": "code",
   "execution_count": 44,
   "metadata": {},
   "outputs": [],
   "source": [
    "f = Foo(11) # 在直接使用类名时的作用是创建对象"
   ]
  },
  {
   "cell_type": "code",
   "execution_count": 45,
   "metadata": {},
   "outputs": [
    {
     "data": {
      "text/plain": [
       "42"
      ]
     },
     "execution_count": 45,
     "metadata": {},
     "output_type": "execute_result"
    }
   ],
   "source": [
    "len(f) # 该函数可以作为对object的一种测度"
   ]
  },
  {
   "cell_type": "code",
   "execution_count": 52,
   "metadata": {},
   "outputs": [
    {
     "data": {
      "text/plain": [
       "43"
      ]
     },
     "execution_count": 52,
     "metadata": {},
     "output_type": "execute_result"
    }
   ],
   "source": [
    "f(1) # 对象是可以被直接调用的，但注意调用的是对象而不是类"
   ]
  },
  {
   "cell_type": "markdown",
   "metadata": {},
   "source": [
    "### 如何理解__call__?"
   ]
  },
  {
   "cell_type": "markdown",
   "metadata": {},
   "source": [
    "在Python中，任何东西都是一个对象。事实上当我们定义函数的时候执行的操作是自动创建一个可调用的对象。"
   ]
  },
  {
   "cell_type": "code",
   "execution_count": 60,
   "metadata": {},
   "outputs": [],
   "source": [
    "def f(x):\n",
    "    \"\"\"\n",
    "    Example\n",
    "    \"\"\"\n",
    "    y = x**2\n",
    "    return y"
   ]
  },
  {
   "cell_type": "code",
   "execution_count": 65,
   "metadata": {},
   "outputs": [
    {
     "name": "stdout",
     "output_type": "stream",
     "text": [
      "\n",
      "    Example\n",
      "    \n"
     ]
    }
   ],
   "source": [
    "print(f.__doc__)"
   ]
  },
  {
   "cell_type": "code",
   "execution_count": 70,
   "metadata": {},
   "outputs": [],
   "source": [
    "class consumer:\n",
    "    \n",
    "    def __init__(self, w, name = 'anonymous'): # constructor method\n",
    "        \"Initialize consumer with w dallars of wealth\"\n",
    "        self.wealth = w\n",
    "        self.name = name\n",
    "        # whenever we create an instance of the calss\n",
    "        # this method will be called automatically\n",
    "        \n",
    "    def __call__(self, currency):\n",
    "        if currency == 'yuan':\n",
    "            return self.wealth\n",
    "        elif currency == 'dollar':\n",
    "            return self.wealth/7\n",
    "        else:\n",
    "            return 'currency not recorded'\n",
    "    \n",
    "    def earn(self, y): # Any method defined within the class should have self as its first argument\n",
    "        self.wealth += y # Any method referenced within the class should be called as self.method_name\n",
    "        \n",
    "    def spend(self, x):\n",
    "        new_wealth = self.wealth - x\n",
    "        if new_wealth < 0:\n",
    "            print(\"Insufficent funds\")\n",
    "        else:\n",
    "            self.wealth = new_wealth"
   ]
  },
  {
   "cell_type": "code",
   "execution_count": 73,
   "metadata": {},
   "outputs": [
    {
     "data": {
      "text/plain": [
       "2.857142857142857"
      ]
     },
     "execution_count": 73,
     "metadata": {},
     "output_type": "execute_result"
    }
   ],
   "source": [
    "c1 = consumer(10)\n",
    "c1.earn(10)\n",
    "c1('dollar')"
   ]
  },
  {
   "cell_type": "markdown",
   "metadata": {},
   "source": [
    "## 关于回调函数"
   ]
  },
  {
   "cell_type": "code",
   "execution_count": 49,
   "metadata": {},
   "outputs": [
    {
     "name": "stdout",
     "output_type": "stream",
     "text": [
      "输入一个数字：6\n",
      "回调函数1\n",
      "6 36\n"
     ]
    }
   ],
   "source": [
    "\n",
    "def a(i):\n",
    "    \"\"\"\"\n",
    "    回调函数1\n",
    "    \"\"\"\n",
    "    print(\"回调函数1\")\n",
    "    return i**2\n",
    " \n",
    "def b(i):\n",
    "    \"\"\"\n",
    "    回调函数2\n",
    "    \"\"\"\n",
    "    print(\"回调函数2\")\n",
    "    return i*2\n",
    " \n",
    "def res(i,f):\n",
    "    \"\"\"\n",
    "        中间函数，也可以成为调用回调函数的函数\n",
    "    \"\"\"\n",
    "    print(i,f(i))  #在这里暗转正常函数的调用方法调用\n",
    " \n",
    "def main():\n",
    "    \"\"\"\n",
    "        第三函数，也就是在回调函数和中间函数，起控制作用的函数\n",
    "    \"\"\"\n",
    "    i = int(input(\"输入一个数字：\"))\n",
    "    if i > 5:\n",
    "        res(i,a)  #传入回调函数的名字作为参数\n",
    "    else:\n",
    "        res(i,b)\n",
    " \n",
    "main()"
   ]
  },
  {
   "cell_type": "markdown",
   "metadata": {},
   "source": [
    "## Exercise\n",
    "### Exercise 1"
   ]
  },
  {
   "cell_type": "code",
   "execution_count": 119,
   "metadata": {},
   "outputs": [],
   "source": [
    "import numpy as np\n",
    "from random import uniform\n",
    "class ECDF:\n",
    "    \n",
    "    def __init__(self, obs):\n",
    "        self.obs = np.array(obs) # 利用ndarray进行更快速的处理\n",
    "    \n",
    "    def __call__(self, x):\n",
    "        self.obs.sort()\n",
    "        k = self.obs.searchsorted(x)\n",
    "        return k/len(self.obs)"
   ]
  },
  {
   "cell_type": "code",
   "execution_count": 121,
   "metadata": {},
   "outputs": [],
   "source": [
    "class ECDF1:\n",
    "    \n",
    "    def __init__(self, observations):\n",
    "        self.observations = observations\n",
    "        \n",
    "    def __call__(self, x):\n",
    "        counter = 0.0\n",
    "        for obs in self.observations:\n",
    "            if obs <= x:\n",
    "                counter += 1\n",
    "        return counter / len(self.observations)"
   ]
  },
  {
   "cell_type": "code",
   "execution_count": 129,
   "metadata": {},
   "outputs": [
    {
     "name": "stdout",
     "output_type": "stream",
     "text": [
      "0.6\n",
      "0.6\n",
      "0.524\n",
      "0.524\n"
     ]
    }
   ],
   "source": [
    "samples = [uniform(0, 1) for i in range(10)]\n",
    "F = ECDF(samples)\n",
    "F1 = ECDF1(samples)\n",
    "\n",
    "print(F(0.5))\n",
    "print(F1(0.5))\n",
    "\n",
    "F1.observations = [uniform(0, 1) for i in range(1000)]\n",
    "F.obs = np.array(F1.observations)\n",
    "\n",
    "print(F(0.5))\n",
    "print(F1(0.5))"
   ]
  },
  {
   "cell_type": "markdown",
   "metadata": {},
   "source": [
    "### Exercise 2"
   ]
  },
  {
   "cell_type": "code",
   "execution_count": 1,
   "metadata": {},
   "outputs": [],
   "source": [
    "class Polynomial:\n",
    "    \n",
    "    def __init__(self, coef):\n",
    "        self.coef = coef\n",
    "        \n",
    "    def __call__(self, x):\n",
    "        return sum(a*x**i for i, a in enumerate(self.coef))\n",
    "            \n",
    "    def differentiate(self):\n",
    "        for i in range(len(self.coef)):\n",
    "            self.coef[len(self.coef) - i] = (len(self.coef) - i) * self.coef[(len(self.coef) - i)]\n",
    "            "
   ]
  },
  {
   "cell_type": "code",
   "execution_count": 2,
   "metadata": {},
   "outputs": [],
   "source": [
    "p1 = Polynomial([1, 1, 1])"
   ]
  },
  {
   "cell_type": "code",
   "execution_count": 3,
   "metadata": {},
   "outputs": [
    {
     "data": {
      "text/plain": [
       "7"
      ]
     },
     "execution_count": 3,
     "metadata": {},
     "output_type": "execute_result"
    }
   ],
   "source": [
    "p1(2)"
   ]
  },
  {
   "cell_type": "code",
   "execution_count": 161,
   "metadata": {},
   "outputs": [
    {
     "data": {
      "text/plain": [
       "[4, 8, 8]"
      ]
     },
     "execution_count": 161,
     "metadata": {},
     "output_type": "execute_result"
    }
   ],
   "source": [
    "p1.coef"
   ]
  },
  {
   "cell_type": "markdown",
   "metadata": {},
   "source": [
    "# How it works: Data, Variables and Names\n",
    "In python, an object is a collection of data and instructions held in computer memory that consists of\n",
    "- a type\n",
    "- some content \n",
    "- a unique identity\n",
    "- zero or more methods"
   ]
  },
  {
   "cell_type": "code",
   "execution_count": 5,
   "metadata": {},
   "outputs": [],
   "source": [
    "s = 'This is a string'"
   ]
  },
  {
   "cell_type": "code",
   "execution_count": 7,
   "metadata": {},
   "outputs": [
    {
     "data": {
      "text/plain": [
       "str"
      ]
     },
     "execution_count": 7,
     "metadata": {},
     "output_type": "execute_result"
    }
   ],
   "source": [
    "s.__class__"
   ]
  },
  {
   "cell_type": "code",
   "execution_count": 9,
   "metadata": {},
   "outputs": [
    {
     "data": {
      "text/plain": [
       "2882079042416"
      ]
     },
     "execution_count": 9,
     "metadata": {},
     "output_type": "execute_result"
    }
   ],
   "source": [
    "id(s) # 这里给出python中特定对象的唯一地址"
   ]
  },
  {
   "cell_type": "code",
   "execution_count": 12,
   "metadata": {},
   "outputs": [
    {
     "data": {
      "text/plain": [
       "True"
      ]
     },
     "execution_count": 12,
     "metadata": {},
     "output_type": "execute_result"
    }
   ],
   "source": [
    "callable(s.__add__)"
   ]
  },
  {
   "cell_type": "markdown",
   "metadata": {},
   "source": [
    "## Iterables and Iterators\n",
    "Formally, an iterator is an object with a __next__ method\n",
    "- iterator\n",
    "- iterable"
   ]
  },
  {
   "cell_type": "code",
   "execution_count": 6,
   "metadata": {},
   "outputs": [
    {
     "data": {
      "text/plain": [
       "'new york: 8244910\\n'"
      ]
     },
     "execution_count": 6,
     "metadata": {},
     "output_type": "execute_result"
    }
   ],
   "source": [
    "f = open('us_cities.txt')\n",
    "f.__next__()"
   ]
  },
  {
   "cell_type": "code",
   "execution_count": 7,
   "metadata": {},
   "outputs": [
    {
     "data": {
      "text/plain": [
       "'los angeles: 3819702\\n'"
      ]
     },
     "execution_count": 7,
     "metadata": {},
     "output_type": "execute_result"
    }
   ],
   "source": [
    "f.__next__()"
   ]
  },
  {
   "cell_type": "code",
   "execution_count": 8,
   "metadata": {},
   "outputs": [
    {
     "data": {
      "text/plain": [
       "'chicago: 2707120\\n'"
      ]
     },
     "execution_count": 8,
     "metadata": {},
     "output_type": "execute_result"
    }
   ],
   "source": [
    "next(f)"
   ]
  },
  {
   "cell_type": "code",
   "execution_count": 9,
   "metadata": {},
   "outputs": [],
   "source": [
    "f.close()"
   ]
  },
  {
   "cell_type": "code",
   "execution_count": 10,
   "metadata": {},
   "outputs": [
    {
     "data": {
      "text/plain": [
       "2320298374272"
      ]
     },
     "execution_count": 10,
     "metadata": {},
     "output_type": "execute_result"
    }
   ],
   "source": [
    "id(f)"
   ]
  },
  {
   "cell_type": "code",
   "execution_count": 12,
   "metadata": {},
   "outputs": [],
   "source": [
    "from csv import reader"
   ]
  },
  {
   "cell_type": "code",
   "execution_count": 13,
   "metadata": {},
   "outputs": [
    {
     "data": {
      "text/plain": [
       "2320267532416"
      ]
     },
     "execution_count": 13,
     "metadata": {},
     "output_type": "execute_result"
    }
   ],
   "source": [
    "x = 'foo'\n",
    "id(x)"
   ]
  },
  {
   "cell_type": "code",
   "execution_count": 14,
   "metadata": {},
   "outputs": [
    {
     "data": {
      "text/plain": [
       "2320266015496"
      ]
     },
     "execution_count": 14,
     "metadata": {},
     "output_type": "execute_result"
    }
   ],
   "source": [
    "x = 'fo'\n",
    "id(x)"
   ]
  },
  {
   "cell_type": "code",
   "execution_count": 15,
   "metadata": {},
   "outputs": [
    {
     "name": "stdout",
     "output_type": "stream",
     "text": [
      "The Zen of Python, by Tim Peters\n",
      "\n",
      "Beautiful is better than ugly.\n",
      "Explicit is better than implicit.\n",
      "Simple is better than complex.\n",
      "Complex is better than complicated.\n",
      "Flat is better than nested.\n",
      "Sparse is better than dense.\n",
      "Readability counts.\n",
      "Special cases aren't special enough to break the rules.\n",
      "Although practicality beats purity.\n",
      "Errors should never pass silently.\n",
      "Unless explicitly silenced.\n",
      "In the face of ambiguity, refuse the temptation to guess.\n",
      "There should be one-- and preferably only one --obvious way to do it.\n",
      "Although that way may not be obvious at first unless you're Dutch.\n",
      "Now is better than never.\n",
      "Although never is often better than *right* now.\n",
      "If the implementation is hard to explain, it's a bad idea.\n",
      "If the implementation is easy to explain, it may be a good idea.\n",
      "Namespaces are one honking great idea -- let's do more of those!\n"
     ]
    }
   ],
   "source": [
    "import this"
   ]
  },
  {
   "cell_type": "code",
   "execution_count": null,
   "metadata": {},
   "outputs": [],
   "source": []
  }
 ],
 "metadata": {
  "kernelspec": {
   "display_name": "Python 3",
   "language": "python",
   "name": "python3"
  },
  "language_info": {
   "codemirror_mode": {
    "name": "ipython",
    "version": 3
   },
   "file_extension": ".py",
   "mimetype": "text/x-python",
   "name": "python",
   "nbconvert_exporter": "python",
   "pygments_lexer": "ipython3",
   "version": "3.7.0"
  }
 },
 "nbformat": 4,
 "nbformat_minor": 2
}
