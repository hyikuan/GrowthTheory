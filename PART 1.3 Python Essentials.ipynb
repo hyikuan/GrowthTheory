{
 "cells": [
  {
   "cell_type": "markdown",
   "metadata": {},
   "source": [
    "# Python Essentials\n",
    "\n",
    "这章主要介绍了一些编程的基础，更多的是一些描述性内容。\n",
    "\n",
    "## Overview\n",
    "\n",
    "- 数据类型\n",
    "- 包的导入\n",
    "- 基础的文件读写操作\n",
    "- Python 如何进行迭代？\n",
    "- 友好的函数操作\n",
    "- 逻辑运算符\n",
    "\n",
    "## 数据类型\n",
    "\n",
    "在编程的时候要和许多对象打交道，正如日常生活中我们会给事物分类一样，在 Python 的编程过程中，我们也给遇到的任何对象进行分类。\n",
    "\n",
    "### 基础类型\n",
    "\n",
    "- 布尔型：只取 是/非 、 0/1 等非此即彼的数据类型\n",
    "- 整数：和数学中的定义相同\n",
    "- 浮点数：也就是数学中定义的有理数、实数等需要电脑进行近似估计的数。这种数据电脑无法精确表示，只能在某一个精度基础上近似表达。在通常意义上电脑的计算精度一般都足够高，使得我们可以把它当成精确的数值来看。\n",
    "- 字符串：单纯地把一串字符连在一起而已。\n",
    "\n",
    "以下示例是上述数据类型的赋值："
   ]
  },
  {
   "cell_type": "code",
   "execution_count": 39,
   "metadata": {},
   "outputs": [
    {
     "name": "stdout",
     "output_type": "stream",
     "text": [
      "<class 'bool'>\n",
      "<class 'int'>\n",
      "<class 'float'>\n",
      "<class 'str'>\n"
     ]
    }
   ],
   "source": [
    "x1 = True # 布尔型\n",
    "x2 = 1 # 整数型\n",
    "x3 = 1.1 # 浮点型\n",
    "x4 = 'string' # 利用单引号表示字符串\n",
    "\n",
    "print(type(x1)) # Type() 函数会返回输入对象的数据类型，print用于输出\n",
    "print(type(x2))\n",
    "print(type(x3))\n",
    "print(type(x4))"
   ]
  },
  {
   "cell_type": "markdown",
   "metadata": {},
   "source": [
    "我们可以看到上面有"
   ]
  },
  {
   "cell_type": "markdown",
   "metadata": {},
   "source": [
    "### 容器类型\n",
    "\n",
    "正如其字面意义，容器类型意味着这种数据类型本身可以容纳其它数据。\n",
    "\n",
    "- 列表（list）：可以对内容进行修改\n",
    "- 元组（tuple）：作为一整个固定的对象，不可修改\n",
    "\n",
    "Python 的特性之一是其容器类型可以同时容纳不同类型的数据。"
   ]
  },
  {
   "cell_type": "code",
   "execution_count": 4,
   "metadata": {},
   "outputs": [
    {
     "name": "stdout",
     "output_type": "stream",
     "text": [
      "<class 'list'>\n",
      "<class 'tuple'>\n"
     ]
    }
   ],
   "source": [
    "list1 = [1, 2, 3] # 使用中括号构建列表\n",
    "print(type(list1))\n",
    "\n",
    "tuple1 = (1, 2, 3)\n",
    "print(type(tuple1))"
   ]
  },
  {
   "cell_type": "code",
   "execution_count": 5,
   "metadata": {},
   "outputs": [
    {
     "data": {
      "text/plain": [
       "1"
      ]
     },
     "execution_count": 5,
     "metadata": {},
     "output_type": "execute_result"
    }
   ],
   "source": [
    "list1[0] # 可以使用中括号访问列表的内容，序数参数从0开始基数；元组也一样"
   ]
  },
  {
   "cell_type": "code",
   "execution_count": 7,
   "metadata": {},
   "outputs": [
    {
     "data": {
      "text/plain": [
       "['New data', 2, 3]"
      ]
     },
     "execution_count": 7,
     "metadata": {},
     "output_type": "execute_result"
    }
   ],
   "source": [
    "list1[0] = 'New data' \n",
    "list1 # 从输出可以看书列表支持不同的类型；并且列表的内部元素是可以被修改的"
   ]
  },
  {
   "cell_type": "code",
   "execution_count": 10,
   "metadata": {},
   "outputs": [
    {
     "ename": "TypeError",
     "evalue": "'tuple' object does not support item assignment",
     "output_type": "error",
     "traceback": [
      "\u001b[1;31m---------------------------------------------------------------------------\u001b[0m",
      "\u001b[1;31mTypeError\u001b[0m                                 Traceback (most recent call last)",
      "\u001b[1;32m<ipython-input-10-599a6d9bf824>\u001b[0m in \u001b[0;36m<module>\u001b[1;34m()\u001b[0m\n\u001b[1;32m----> 1\u001b[1;33m \u001b[0mtuple1\u001b[0m\u001b[1;33m[\u001b[0m\u001b[1;36m0\u001b[0m\u001b[1;33m]\u001b[0m \u001b[1;33m=\u001b[0m \u001b[1;34m'New data'\u001b[0m \u001b[1;31m# 元组的内部元素不可以修改；在编程时要注意返回的错误信息哦\u001b[0m\u001b[1;33m\u001b[0m\u001b[0m\n\u001b[0m",
      "\u001b[1;31mTypeError\u001b[0m: 'tuple' object does not support item assignment"
     ]
    }
   ],
   "source": [
    "tuple1[0] = 'New data' # 元组的内部元素不可以修改；在编程时要注意返回的错误信息哦"
   ]
  },
  {
   "cell_type": "markdown",
   "metadata": {},
   "source": [
    "#### Slice notation\n",
    "\n",
    "切片记号……直译听起来比较奇怪，直观上来说就是可以通过一些记号更便捷地对列表/元组的数据进行防卫，其概念类似 Matlab 的分号表达式。通过例子来说明吧："
   ]
  },
  {
   "cell_type": "code",
   "execution_count": 11,
   "metadata": {},
   "outputs": [
    {
     "data": {
      "text/plain": [
       "[4, 6, 8]"
      ]
     },
     "execution_count": 11,
     "metadata": {},
     "output_type": "execute_result"
    }
   ],
   "source": [
    "a = [2, 4, 6, 8]\n",
    "a[1:] # 从第一位一直访问到结束；注意这里的序号是从0开始计数的"
   ]
  },
  {
   "cell_type": "code",
   "execution_count": 13,
   "metadata": {},
   "outputs": [
    {
     "data": {
      "text/plain": [
       "[4, 6]"
      ]
     },
     "execution_count": 13,
     "metadata": {},
     "output_type": "execute_result"
    }
   ],
   "source": [
    "a[1:3] # a[m, n] 从第 m 位开始访问；共输出 n-m 位"
   ]
  },
  {
   "cell_type": "code",
   "execution_count": 23,
   "metadata": {},
   "outputs": [
    {
     "data": {
      "text/plain": [
       "[6, 8]"
      ]
     },
     "execution_count": 23,
     "metadata": {},
     "output_type": "execute_result"
    }
   ],
   "source": [
    "a[-2:] # 从倒数第二位输出到结束"
   ]
  },
  {
   "cell_type": "markdown",
   "metadata": {},
   "source": [
    "其实这些记号是不需要硬背的，只需要记住一个原则就好了。\n",
    "\n",
    "a.[m: n] 其中m代表开始输出的位置（该位置上的数输出）；n代表停止输出的位置（该位置上的数不输出），如果前面有负号就倒着算，如果其中一个为空就说明解释器不知道从哪里开始/停止，只好从第一/最后一位开始/停止。\n",
    "\n",
    "令人惊讶的是，上述记号全都能用在字符串上！为什么呢？其实很好理解，字符串相当于一系列单个字符的集合，在某种意义上相当于一个不可改变的列表，也就是元组，那么访问的记号自然也就一样了\n",
    "\n",
    "### 集合和字典\n",
    "\n",
    "这当然就是数学定义中的集合啦！还记得对集合的定义吗，不可以出现相同元素，这里也一样。除此之外数学中可以对集合进行的各种运算也一并被移植到 Python 的基础语法中了。而字典类型正如我们学习中用到的字典一样，它包含关键字段以及对其的解释语段。\n"
   ]
  },
  {
   "cell_type": "code",
   "execution_count": 35,
   "metadata": {},
   "outputs": [
    {
     "name": "stdout",
     "output_type": "stream",
     "text": [
      "<class 'set'>\n"
     ]
    },
    {
     "data": {
      "text/plain": [
       "True"
      ]
     },
     "execution_count": 35,
     "metadata": {},
     "output_type": "execute_result"
    }
   ],
   "source": [
    "set1 = {'a', 'b', 'a'} # 使用花括号创建集合\n",
    "print(type(set1))\n",
    "\n",
    "set2 = {'b'}\n",
    "set2.issubset(set1) # 判断集合的包含关系；其他集合运算可以通过百度查询"
   ]
  },
  {
   "cell_type": "code",
   "execution_count": 38,
   "metadata": {},
   "outputs": [
    {
     "data": {
      "text/plain": [
       "30"
      ]
     },
     "execution_count": 38,
     "metadata": {},
     "output_type": "execute_result"
    }
   ],
   "source": [
    "dic1 = {'name': 'Frodo', 'age': 33} # 使用匹配的一组数据创建字典\n",
    "\n",
    "# 我们好奇，字典的关键字（key）能否重复呢？\n",
    "dic2 = {'name': 'Frodo', 'age': 33, 'age': 30}\n",
    "dic2['age']"
   ]
  },
  {
   "cell_type": "markdown",
   "metadata": {},
   "source": [
    "我们可以看到关键字居然是可以重复的。其实从另一方面来说，可以理解为解释器在处理这条语句的时候是顺序处理的；在处理到最后一句的时候并不是创建了一个相同的关键字，只是发现了一个新的数据然后覆盖掉了之前存过的数据。\n",
    "\n",
    "## 包的导入\n",
    "\n",
    "\n",
    "\n",
    "\n",
    "未完待续"
   ]
  },
  {
   "cell_type": "markdown",
   "metadata": {},
   "source": [
    "## Exercise 1"
   ]
  },
  {
   "cell_type": "code",
   "execution_count": 187,
   "metadata": {},
   "outputs": [],
   "source": [
    "import numpy as np\n",
    "import matplotlib as plt"
   ]
  },
  {
   "cell_type": "markdown",
   "metadata": {},
   "source": [
    "### Part 1"
   ]
  },
  {
   "cell_type": "code",
   "execution_count": 194,
   "metadata": {},
   "outputs": [],
   "source": [
    "x_values = [np.random.uniform() for i in range(100)]\n",
    "y_values = [np.random.uniform() for i in range(100)]\n",
    "inner_prdt = 0\n",
    "for x,y  in zip(x_values, y_values):\n",
    "    inner_prdt += x*y"
   ]
  },
  {
   "cell_type": "code",
   "execution_count": 198,
   "metadata": {},
   "outputs": [
    {
     "data": {
      "text/plain": [
       "23.880626305708333"
      ]
     },
     "execution_count": 198,
     "metadata": {},
     "output_type": "execute_result"
    }
   ],
   "source": [
    "inner_prdt"
   ]
  },
  {
   "cell_type": "markdown",
   "metadata": {},
   "source": [
    "### Part 2"
   ]
  },
  {
   "cell_type": "code",
   "execution_count": 199,
   "metadata": {},
   "outputs": [
    {
     "data": {
      "text/plain": [
       "50"
      ]
     },
     "execution_count": 199,
     "metadata": {},
     "output_type": "execute_result"
    }
   ],
   "source": [
    "sum(i%2 for i in range(100))"
   ]
  },
  {
   "cell_type": "markdown",
   "metadata": {},
   "source": [
    "### Part 3"
   ]
  },
  {
   "cell_type": "code",
   "execution_count": 204,
   "metadata": {},
   "outputs": [],
   "source": [
    "pairs = ((2, 5), (4, 2), (9, 8), (12, 10))"
   ]
  },
  {
   "cell_type": "code",
   "execution_count": 205,
   "metadata": {},
   "outputs": [
    {
     "data": {
      "text/plain": [
       "2"
      ]
     },
     "execution_count": 205,
     "metadata": {},
     "output_type": "execute_result"
    }
   ],
   "source": [
    "len(pairs) - sum((x%2 or y%2) for x, y in pairs)"
   ]
  },
  {
   "cell_type": "markdown",
   "metadata": {},
   "source": [
    "## Exercise 2"
   ]
  },
  {
   "cell_type": "code",
   "execution_count": 228,
   "metadata": {},
   "outputs": [],
   "source": [
    "def p(x, coeff):\n",
    "    return sum(coe*x**i for i, coe in enumerate(coeff))"
   ]
  },
  {
   "cell_type": "code",
   "execution_count": 229,
   "metadata": {},
   "outputs": [
    {
     "data": {
      "text/plain": [
       "7"
      ]
     },
     "execution_count": 229,
     "metadata": {},
     "output_type": "execute_result"
    }
   ],
   "source": [
    "coeff = [1, 1, 1]\n",
    "x = 2\n",
    "p(x, coeff)"
   ]
  },
  {
   "cell_type": "markdown",
   "metadata": {},
   "source": [
    "## Exercise 3"
   ]
  },
  {
   "cell_type": "code",
   "execution_count": 267,
   "metadata": {},
   "outputs": [
    {
     "data": {
      "text/plain": [
       "3"
      ]
     },
     "execution_count": 267,
     "metadata": {},
     "output_type": "execute_result"
    }
   ],
   "source": [
    "def f(string):\n",
    "    count = 0\n",
    "    for letter in string:\n",
    "        if letter == letter.upper() and letter.isalpha():\n",
    "            count += 1\n",
    "    return count"
   ]
  },
  {
   "cell_type": "markdown",
   "metadata": {},
   "source": [
    "上面通过直接调用系统内的包实现，但是对于编程而言应该知道背后的逻辑"
   ]
  },
  {
   "cell_type": "code",
   "execution_count": 271,
   "metadata": {},
   "outputs": [],
   "source": [
    "def num_cap(string):\n",
    "    return sum(ord(x)>=65 and ord(x)<=90 for x in string)"
   ]
  },
  {
   "cell_type": "code",
   "execution_count": 273,
   "metadata": {},
   "outputs": [
    {
     "data": {
      "text/plain": [
       "1"
      ]
     },
     "execution_count": 273,
     "metadata": {},
     "output_type": "execute_result"
    }
   ],
   "source": [
    "num_cap('aaabbbA')"
   ]
  },
  {
   "cell_type": "markdown",
   "metadata": {},
   "source": [
    "## Exercise 4"
   ]
  },
  {
   "cell_type": "code",
   "execution_count": 276,
   "metadata": {},
   "outputs": [],
   "source": [
    "def f(seq_a, seq_b):\n",
    "    is_subset = True\n",
    "    for a in seq_a:\n",
    "        if a not in seq_b:\n",
    "            is_subset = False\n",
    "    return is_subset"
   ]
  },
  {
   "cell_type": "code",
   "execution_count": 277,
   "metadata": {},
   "outputs": [],
   "source": [
    "def judge(a, b):\n",
    "    key1 = True\n",
    "    for i in a:\n",
    "        key2 = False\n",
    "        for j in b:\n",
    "            if i == j:\n",
    "                key2 = True \n",
    "        if not key2:\n",
    "            key1 = False\n",
    "    return key1"
   ]
  },
  {
   "cell_type": "code",
   "execution_count": 278,
   "metadata": {},
   "outputs": [
    {
     "data": {
      "text/plain": [
       "False"
      ]
     },
     "execution_count": 278,
     "metadata": {},
     "output_type": "execute_result"
    }
   ],
   "source": [
    "a = 'acbeccd'\n",
    "b = 'abcd'\n",
    "judge(a, b)"
   ]
  },
  {
   "cell_type": "markdown",
   "metadata": {},
   "source": [
    "## Exercise 5"
   ]
  },
  {
   "cell_type": "code",
   "execution_count": 291,
   "metadata": {},
   "outputs": [],
   "source": [
    "def linapprox(f, a, b, n, x):\n",
    "    step = (b-a)/(n-1)\n",
    "    u, v = int((x-a)/step)*step+a, (int((x-a)/step)+1)*step+a\n",
    "    return f(u) + (x - u) * (f(v) - f(u)) / (v - u)"
   ]
  },
  {
   "cell_type": "code",
   "execution_count": 292,
   "metadata": {},
   "outputs": [],
   "source": [
    "def test(f, a, b, n, x):\n",
    "    length_of_interval = b - a\n",
    "    num_subintervals = n - 1\n",
    "    step = length_of_interval / num_subintervals\n",
    "    point = a\n",
    "    while point <= x:\n",
    "        point += step\n",
    "    u, v = point - step, point\n",
    "    return f(u) + (x - u) * (f(v) - f(u)) / (v - u)"
   ]
  },
  {
   "cell_type": "code",
   "execution_count": 293,
   "metadata": {},
   "outputs": [],
   "source": [
    "a = 0\n",
    "b = 10\n",
    "f = lambda x: x**3\n",
    "n = 10"
   ]
  },
  {
   "cell_type": "code",
   "execution_count": 294,
   "metadata": {},
   "outputs": [
    {
     "data": {
      "text/plain": [
       "91.97530864197532"
      ]
     },
     "execution_count": 294,
     "metadata": {},
     "output_type": "execute_result"
    }
   ],
   "source": [
    "test(f, a, b, n, 4.5)"
   ]
  },
  {
   "cell_type": "code",
   "execution_count": 1,
   "metadata": {},
   "outputs": [
    {
     "ename": "NameError",
     "evalue": "name 'linapprox' is not defined",
     "output_type": "error",
     "traceback": [
      "\u001b[1;31m---------------------------------------------------------------------------\u001b[0m",
      "\u001b[1;31mNameError\u001b[0m                                 Traceback (most recent call last)",
      "\u001b[1;32m<ipython-input-1-bab74053684e>\u001b[0m in \u001b[0;36m<module>\u001b[1;34m()\u001b[0m\n\u001b[1;32m----> 1\u001b[1;33m \u001b[0mlinapprox\u001b[0m\u001b[1;33m(\u001b[0m\u001b[0mf\u001b[0m\u001b[1;33m,\u001b[0m \u001b[0ma\u001b[0m\u001b[1;33m,\u001b[0m \u001b[0mb\u001b[0m\u001b[1;33m,\u001b[0m \u001b[0mn\u001b[0m\u001b[1;33m,\u001b[0m \u001b[1;36m4.5\u001b[0m\u001b[1;33m)\u001b[0m\u001b[1;33m\u001b[0m\u001b[0m\n\u001b[0m",
      "\u001b[1;31mNameError\u001b[0m: name 'linapprox' is not defined"
     ]
    }
   ],
   "source": [
    "linapprox(f, a, b, n, 4.5)"
   ]
  },
  {
   "cell_type": "markdown",
   "metadata": {},
   "source": [
    "# Matplotlib"
   ]
  },
  {
   "cell_type": "code",
   "execution_count": 3,
   "metadata": {},
   "outputs": [
    {
     "data": {
      "image/png": "[encoded data removed]",
      "text/plain": [
       "<Figure size 432x288 with 1 Axes>"
      ]
     },
     "metadata": {
      "needs_background": "light"
     },
     "output_type": "display_data"
    }
   ],
   "source": [
    "import matplotlib.pyplot as plt\n",
    "import numpy as np\n",
    "fig, ax = plt.subplots()\n",
    "x = np.linspace(0, 10, 200)\n",
    "y = np.sin(x)\n",
    "ax.plot(x, y, 'b-', linewidth=2)\n",
    "plt.show()"
   ]
  },
  {
   "cell_type": "code",
   "execution_count": null,
   "metadata": {},
   "outputs": [],
   "source": []
  }
 ],
 "metadata": {
  "kernelspec": {
   "display_name": "Python 3",
   "language": "python",
   "name": "python3"
  },
  "language_info": {
   "codemirror_mode": {
    "name": "ipython",
    "version": 3
   },
   "file_extension": ".py",
   "mimetype": "text/x-python",
   "name": "python",
   "nbconvert_exporter": "python",
   "pygments_lexer": "ipython3",
   "version": "3.7.0"
  }
 },
 "nbformat": 4,
 "nbformat_minor": 2
}
