{
 "cells": [
  {
   "cell_type": "code",
   "execution_count": 1,
   "metadata": {},
   "outputs": [],
   "source": [
    "import numpy as np # 在使用本文档前记得预先导入所有需要的包"
   ]
  },
  {
   "cell_type": "markdown",
   "metadata": {},
   "source": [
    "# More Language Features\n",
    "\n",
    "本章提供了更多的Python语法特性，需要细细品读以体会Pythonic Coding的细节。\n",
    "\n",
    "## 如何处理错误？"
   ]
  },
  {
   "cell_type": "code",
   "execution_count": 2,
   "metadata": {},
   "outputs": [],
   "source": [
    "def var(y):\n",
    "    n = len(y)\n",
    "    # assert 后面加的判断语句是我们希望成立的条件，如果不成立就输出语句尾部的字符串作为错误提示\n",
    "    assert n > 1, 'Sample size must be greater than one.'\n",
    "    return np.sum((y - y.mean())**2) / float(n-1) # 注意此处的类型是np.ndarray"
   ]
  },
  {
   "cell_type": "code",
   "execution_count": 3,
   "metadata": {},
   "outputs": [
    {
     "data": {
      "text/plain": [
       "0.5"
      ]
     },
     "execution_count": 3,
     "metadata": {},
     "output_type": "execute_result"
    }
   ],
   "source": [
    "var(y = np.array([1, 2])) # 可以捕捉到assert语句中提到的错误，运行终止"
   ]
  },
  {
   "cell_type": "markdown",
   "metadata": {},
   "source": [
    "## 在程序运行的同时处理错误\n",
    "\n",
    "在Python中常见的错误有NameError, TypeError, IndexError, ZeroDivisionError等"
   ]
  },
  {
   "cell_type": "code",
   "execution_count": 4,
   "metadata": {},
   "outputs": [],
   "source": [
    "def f(x):\n",
    "    # 使用try-except模块来捕捉出问题的地方\n",
    "    # 如果try语句中正确执行，那么就不会执行except中的语句；\n",
    "    # 如果try中的语句出现错误，那么执行except中的语句\n",
    "    # 和if-else的区别在于这个语句不会打断程序的执行，只是在出现错误的时候输出想要输出的结果\n",
    "    try:\n",
    "        return 1.0 / x\n",
    "    except ZeroDivisionError: # 这个地方的错误名是固定的\n",
    "        print('Error: division by zero. Returned None')\n",
    "    except TypeError: # 可以添加多种错误情况\n",
    "        print('Error: Unsupported operation. Returned None')    \n",
    "    return None"
   ]
  },
  {
   "cell_type": "code",
   "execution_count": 5,
   "metadata": {},
   "outputs": [
    {
     "name": "stdout",
     "output_type": "stream",
     "text": [
      "Error: division by zero. Returned None\n",
      "Error: Unsupported operation. Returned None\n"
     ]
    },
    {
     "data": {
      "text/plain": [
       "NoneType"
      ]
     },
     "execution_count": 5,
     "metadata": {},
     "output_type": "execute_result"
    }
   ],
   "source": [
    "type(f(0))\n",
    "type(f('a'))"
   ]
  },
  {
   "cell_type": "markdown",
   "metadata": {},
   "source": [
    "## 装饰器（Decorator）\n",
    "\n",
    "装饰器存在的意义：本质上来说装饰器就是一种函数<font color=brown>闭包</font>，即一种从函数映射到新函数的特殊函数；其意义在于我们能够很方便地对已存在的函数进行修改，即装饰，故曰装饰器。"
   ]
  },
  {
   "cell_type": "code",
   "execution_count": 6,
   "metadata": {},
   "outputs": [],
   "source": [
    "# 首先我们得到两个用于演示的示例函数\n",
    "def f(x):\n",
    "    return np.log(x) # x > 1\n",
    "\n",
    "def g(x):\n",
    "    return np.sqrt(42 * x) # x > 0"
   ]
  },
  {
   "cell_type": "markdown",
   "metadata": {},
   "source": [
    "现在我们希望对上述两个函数做出修改如下：在执行计算前先判断是否在函数定义域内，否则返回相应错误信息。\n",
    "\n",
    "一种简单的方式当然是对上面的函数进行改动，但我们希望有一种更优雅的方式：即使用装饰器对函数进行修改。"
   ]
  },
  {
   "cell_type": "code",
   "execution_count": 7,
   "metadata": {},
   "outputs": [],
   "source": [
    "def check_nonneg(f):\n",
    "    \n",
    "    def safe_f(y): # 这就是我们将要返回的新函数\n",
    "        print('message')\n",
    "        assert y > 0, \"Argument must be nonnegative!\" # 也可以通过try-except去catch errors\n",
    "        return f(y) # 它的命名空间可以被新的函数记住\n",
    "    \n",
    "    return safe_f"
   ]
  },
  {
   "cell_type": "code",
   "execution_count": 8,
   "metadata": {},
   "outputs": [],
   "source": [
    "safe_f = check_nonneg(f) # 每次执行该语句都会在check_nonneg(f) 的函数体中定义新的safe_f()并返回"
   ]
  },
  {
   "cell_type": "code",
   "execution_count": 9,
   "metadata": {},
   "outputs": [
    {
     "name": "stdout",
     "output_type": "stream",
     "text": [
      "message\n"
     ]
    },
    {
     "data": {
      "text/plain": [
       "0.0"
      ]
     },
     "execution_count": 9,
     "metadata": {},
     "output_type": "execute_result"
    }
   ],
   "source": [
    "safe_f(1)"
   ]
  },
  {
   "cell_type": "markdown",
   "metadata": {},
   "source": [
    "到现在为止都还很好理解，现在让我们来看一些奇怪的事情。我们知道，在Python中一切都是对象。我们在check_nonneg中调用了对象f，生成了新的对象。但是在我们直接使用新对象（即装饰过后的函数）的时候，却可以从容地使用原来函数的功能，这是为什么呢？\n",
    "\n",
    "Python支持一个叫做函数闭包的功能。在以函数作为返回值的时候，可以记住该函数的命名空间。"
   ]
  },
  {
   "cell_type": "code",
   "execution_count": 14,
   "metadata": {},
   "outputs": [
    {
     "name": "stdout",
     "output_type": "stream",
     "text": [
      "message\n",
      "message\n",
      "message\n",
      "message\n",
      "message\n"
     ]
    },
    {
     "data": {
      "text/plain": [
       "0.0"
      ]
     },
     "execution_count": 14,
     "metadata": {},
     "output_type": "execute_result"
    }
   ],
   "source": [
    "f = check_nonneg(f) # 演示，多次调用可以记住每一层的命名空间\n",
    "f(1)"
   ]
  },
  {
   "cell_type": "markdown",
   "metadata": {},
   "source": [
    "更令人惊讶的是，Python的开发者考虑地是如此的周全，以至于他们把函数装饰这样一个常用的功能直接集成到了Python的syntax之中。注意，以下表达虽然和上面的有所不同，但这只是我们书写方式的问题；而在interpreter的眼中，它们是完完全全等价的。"
   ]
  },
  {
   "cell_type": "code",
   "execution_count": 15,
   "metadata": {},
   "outputs": [],
   "source": [
    "@check_nonneg\n",
    "def h(x):\n",
    "    return abs(np.log(x))"
   ]
  },
  {
   "cell_type": "code",
   "execution_count": 16,
   "metadata": {},
   "outputs": [
    {
     "name": "stdout",
     "output_type": "stream",
     "text": [
      "message\n"
     ]
    },
    {
     "ename": "AssertionError",
     "evalue": "Argument must be nonnegative!",
     "output_type": "error",
     "traceback": [
      "\u001b[1;31m---------------------------------------------------------------------------\u001b[0m",
      "\u001b[1;31mAssertionError\u001b[0m                            Traceback (most recent call last)",
      "\u001b[1;32m<ipython-input-16-201738d38ff9>\u001b[0m in \u001b[0;36m<module>\u001b[1;34m()\u001b[0m\n\u001b[1;32m----> 1\u001b[1;33m \u001b[0mh\u001b[0m\u001b[1;33m(\u001b[0m\u001b[1;36m0\u001b[0m\u001b[1;33m)\u001b[0m\u001b[1;33m\u001b[0m\u001b[0m\n\u001b[0m",
      "\u001b[1;32m<ipython-input-7-315bf2a5c0ce>\u001b[0m in \u001b[0;36msafe_f\u001b[1;34m(y)\u001b[0m\n\u001b[0;32m      3\u001b[0m     \u001b[1;32mdef\u001b[0m \u001b[0msafe_f\u001b[0m\u001b[1;33m(\u001b[0m\u001b[0my\u001b[0m\u001b[1;33m)\u001b[0m\u001b[1;33m:\u001b[0m \u001b[1;31m# 这就是我们将要返回的新函数\u001b[0m\u001b[1;33m\u001b[0m\u001b[0m\n\u001b[0;32m      4\u001b[0m         \u001b[0mprint\u001b[0m\u001b[1;33m(\u001b[0m\u001b[1;34m'message'\u001b[0m\u001b[1;33m)\u001b[0m\u001b[1;33m\u001b[0m\u001b[0m\n\u001b[1;32m----> 5\u001b[1;33m         \u001b[1;32massert\u001b[0m \u001b[0my\u001b[0m \u001b[1;33m>\u001b[0m \u001b[1;36m0\u001b[0m\u001b[1;33m,\u001b[0m \u001b[1;34m\"Argument must be nonnegative!\"\u001b[0m \u001b[1;31m# 也可以通过try-except去catch errors\u001b[0m\u001b[1;33m\u001b[0m\u001b[0m\n\u001b[0m\u001b[0;32m      6\u001b[0m         \u001b[1;32mreturn\u001b[0m \u001b[0mf\u001b[0m\u001b[1;33m(\u001b[0m\u001b[0my\u001b[0m\u001b[1;33m)\u001b[0m \u001b[1;31m# 它的命名空间可以被新的函数记住\u001b[0m\u001b[1;33m\u001b[0m\u001b[0m\n\u001b[0;32m      7\u001b[0m \u001b[1;33m\u001b[0m\u001b[0m\n",
      "\u001b[1;31mAssertionError\u001b[0m: Argument must be nonnegative!"
     ]
    }
   ],
   "source": [
    "h(0)"
   ]
  },
  {
   "cell_type": "markdown",
   "metadata": {},
   "source": [
    "## 描述（Descriptor）\n",
    "\n",
    "描述符只是Python中的一种对象，它被创造来让我们能够更方便地管理变量。首先让我们看看官方的文档是怎么说的。\n",
    "\n",
    "In general, a descriptor is an object attribute with “binding behavior”, one whose attribute access has been overridden by methods in the descriptor protocol. **Those methods are <font face=\"consolas\">\\_\\_get__()</font>\\, \\_\\_set__(), and \\_\\_delete__(). If any of those methods are defined for an object, it is said to be a descriptor**.\n",
    "\n",
    "Data and non-data descriptors differ in how overrides are calculated with respect to entries in an instance’s dictionary. If an instance’s dictionary has an entry with the same name as a data descriptor, the data descriptor takes precedence. If an instance’s dictionary has an entry with the same name as a non-data descriptor, the dictionary entry takes precedence.\n",
    "\n",
    "### Invoking descriptors\n",
    "\n",
    "一个描述可以直接通过它的方法名被调用。例如 <font face=\"consolas\">d.\\_\\_get__(obj)</font>\n"
   ]
  },
  {
   "cell_type": "code",
   "execution_count": 17,
   "metadata": {},
   "outputs": [],
   "source": [
    "class Car:\n",
    "    \n",
    "    def __init__(self, miles=1000):\n",
    "        self._miles = miles\n",
    "        self._kms = miles * 1.61\n",
    "        \n",
    "    def set_miles(self, value):\n",
    "        self._miles = value\n",
    "        self._kms = value * 1.61\n",
    "        \n",
    "    def set_kms(self, value):\n",
    "        self._kms = value\n",
    "        self._miles = value / 1.61\n",
    "        \n",
    "    def get_miles(self):\n",
    "        return self._miles\n",
    "    \n",
    "    def get_kms(self):\n",
    "        return self._kms\n",
    "    \n",
    "    miles = property(get_miles, set_miles)\n",
    "    kms = property(get_kms, set_kms)"
   ]
  },
  {
   "cell_type": "code",
   "execution_count": 18,
   "metadata": {},
   "outputs": [
    {
     "data": {
      "text/plain": [
       "1000"
      ]
     },
     "execution_count": 18,
     "metadata": {},
     "output_type": "execute_result"
    }
   ],
   "source": [
    "car = Car()\n",
    "car.miles"
   ]
  },
  {
   "cell_type": "code",
   "execution_count": 19,
   "metadata": {},
   "outputs": [
    {
     "data": {
      "text/plain": [
       "9660.0"
      ]
     },
     "execution_count": 19,
     "metadata": {},
     "output_type": "execute_result"
    }
   ],
   "source": [
    "car.miles = 6000 # 这是我们希望达成的效果\n",
    "car.kms"
   ]
  },
  {
   "cell_type": "code",
   "execution_count": 20,
   "metadata": {},
   "outputs": [
    {
     "data": {
      "text/plain": [
       "9660.0"
      ]
     },
     "execution_count": 20,
     "metadata": {},
     "output_type": "execute_result"
    }
   ],
   "source": [
    "car.__dict__['_kms']"
   ]
  },
  {
   "cell_type": "code",
   "execution_count": 21,
   "metadata": {},
   "outputs": [
    {
     "data": {
      "text/plain": [
       "mappingproxy({'__module__': '__main__',\n",
       "              '__init__': <function __main__.Car.__init__(self, miles=1000)>,\n",
       "              'set_miles': <function __main__.Car.set_miles(self, value)>,\n",
       "              'set_kms': <function __main__.Car.set_kms(self, value)>,\n",
       "              'get_miles': <function __main__.Car.get_miles(self)>,\n",
       "              'get_kms': <function __main__.Car.get_kms(self)>,\n",
       "              'miles': <property at 0x2ab32031c78>,\n",
       "              'kms': <property at 0x2ab32031d18>,\n",
       "              '__dict__': <attribute '__dict__' of 'Car' objects>,\n",
       "              '__weakref__': <attribute '__weakref__' of 'Car' objects>,\n",
       "              '__doc__': None})"
      ]
     },
     "execution_count": 21,
     "metadata": {},
     "output_type": "execute_result"
    }
   ],
   "source": [
    "type(car).__dict__ # 相当于获取类Class的namespace"
   ]
  },
  {
   "cell_type": "code",
   "execution_count": 22,
   "metadata": {},
   "outputs": [],
   "source": [
    "class Test(object):\n",
    "    cls_val = 1 # 这玩意儿叫做类属性\n",
    "    def __init__(self):\n",
    "        self.ins_val = 10"
   ]
  },
  {
   "cell_type": "code",
   "execution_count": 23,
   "metadata": {},
   "outputs": [],
   "source": [
    "t = Test()"
   ]
  },
  {
   "cell_type": "code",
   "execution_count": 24,
   "metadata": {},
   "outputs": [
    {
     "name": "stdout",
     "output_type": "stream",
     "text": [
      "{'ins_val': 10}\n",
      "{'__module__': '__main__', 'cls_val': 1, '__init__': <function Test.__init__ at 0x000002AB3205C158>, '__dict__': <attribute '__dict__' of 'Test' objects>, '__weakref__': <attribute '__weakref__' of 'Test' objects>, '__doc__': None}\n"
     ]
    }
   ],
   "source": [
    "print(t.__dict__)\n",
    "print(Test.__dict__)"
   ]
  },
  {
   "cell_type": "code",
   "execution_count": 25,
   "metadata": {},
   "outputs": [
    {
     "data": {
      "text/plain": [
       "1"
      ]
     },
     "execution_count": 25,
     "metadata": {},
     "output_type": "execute_result"
    }
   ],
   "source": [
    "Test.cls_val"
   ]
  },
  {
   "cell_type": "code",
   "execution_count": 26,
   "metadata": {},
   "outputs": [
    {
     "name": "stdout",
     "output_type": "stream",
     "text": [
      "10\n"
     ]
    },
    {
     "ename": "TypeError",
     "evalue": "expected 1 arguments, got 0",
     "output_type": "error",
     "traceback": [
      "\u001b[1;31m---------------------------------------------------------------------------\u001b[0m",
      "\u001b[1;31mTypeError\u001b[0m                                 Traceback (most recent call last)",
      "\u001b[1;32m<ipython-input-26-dd4edb7e1e14>\u001b[0m in \u001b[0;36m<module>\u001b[1;34m()\u001b[0m\n\u001b[0;32m      1\u001b[0m \u001b[0mprint\u001b[0m\u001b[1;33m(\u001b[0m\u001b[0mt\u001b[0m\u001b[1;33m.\u001b[0m\u001b[0m__getattribute__\u001b[0m\u001b[1;33m(\u001b[0m\u001b[1;34m'ins_val'\u001b[0m\u001b[1;33m)\u001b[0m\u001b[1;33m)\u001b[0m\u001b[1;33m\u001b[0m\u001b[0m\n\u001b[1;32m----> 2\u001b[1;33m \u001b[0mprint\u001b[0m\u001b[1;33m(\u001b[0m\u001b[0mTest\u001b[0m\u001b[1;33m.\u001b[0m\u001b[0m__getattribute__\u001b[0m\u001b[1;33m(\u001b[0m\u001b[1;34m'cls_val'\u001b[0m\u001b[1;33m)\u001b[0m\u001b[1;33m)\u001b[0m \u001b[1;31m# 这是一个类，而不是一个实例\u001b[0m\u001b[1;33m\u001b[0m\u001b[0m\n\u001b[0m",
      "\u001b[1;31mTypeError\u001b[0m: expected 1 arguments, got 0"
     ]
    }
   ],
   "source": [
    "print(t.__getattribute__('ins_val'))\n",
    "print(Test.__getattribute__('cls_val')) # 这是一个类，而不是一个实例"
   ]
  },
  {
   "cell_type": "code",
   "execution_count": 27,
   "metadata": {},
   "outputs": [
    {
     "data": {
      "text/plain": [
       "1"
      ]
     },
     "execution_count": 27,
     "metadata": {},
     "output_type": "execute_result"
    }
   ],
   "source": [
    "t.__getattribute__('cls_val') # 会在父类中寻找"
   ]
  },
  {
   "cell_type": "code",
   "execution_count": 28,
   "metadata": {},
   "outputs": [
    {
     "name": "stdout",
     "output_type": "stream",
     "text": [
      "__get__...\n",
      "self : \t\t <__main__.Desc object at 0x000002AB31FB5F98>\n",
      "instance : \t <__main__.TestDesc object at 0x000002AB32067B00>\n",
      "owner : \t <class '__main__.TestDesc'>\n",
      "======================================== \n",
      "\n"
     ]
    }
   ],
   "source": [
    "class Desc(object):\n",
    "\n",
    "    def __get__(self, instance, owner):\n",
    "        print(\"__get__...\")\n",
    "        print(\"self : \\t\\t\", self)\n",
    "        print(\"instance : \\t\", instance)\n",
    "        print(\"owner : \\t\", owner)\n",
    "        print('='*40, \"\\n\")\n",
    "\n",
    "    def __set__(self, instance, value):\n",
    "        print('__set__...')\n",
    "        print(\"self : \\t\\t\", self)\n",
    "        print(\"instance : \\t\", instance)\n",
    "        print(\"value : \\t\", value)\n",
    "        print('='*40, \"\\n\")\n",
    "\n",
    "        \n",
    "class TestDesc(object):\n",
    "    x = Desc() # 注意这里x是类的属性而不是所建实例的属性\n",
    "\n",
    "#以下为测试代码\n",
    "t = TestDesc()\n",
    "t.x"
   ]
  },
  {
   "cell_type": "markdown",
   "metadata": {},
   "source": [
    "我们可以看出，在实例化 <font face=\"consolas\">TestDesc</font> 之后，调用对象并访问其属性 <font face=\"consolas\">t</font>，会自动调用类 <font face=\"consolas\">Desc</font> 的 <font face=\"consolas\">\\_\\_get__</font> 方法。从输出信息可以看出：\n",
    "\n",
    "- self：其实就是Desc的实例化对象，即t.x\n",
    "- instance：TestDesc的实例化对象，即t\n",
    "- owner：最大的容器，即TestDesc这个类\n",
    "\n",
    "但是问题又出现了，为什么在调用t.x的时候，直接执行了 <font face=\"consolas\">\\_\\_get__</font> 方法呢？\n",
    "\n",
    "根据常规顺序，在访问t.x的时候，应该先在实例t的属性中搜索，没找到；然后继续在TestDesc的属性中寻找，找到了！\n",
    "\n",
    "但此时解释器发现x这玩意居然是一个描述符，就会把 TestDesc.x 转化为 TestDesc.\\_\\_dict__['x'].\\_\\_get__(None, TestDesc) 来访问。用人话来说**也就是我们在访问一个描述符实例的时候，会自动变成访问它的 \\_\\_get__ 函数**。"
   ]
  },
  {
   "cell_type": "code",
   "execution_count": null,
   "metadata": {},
   "outputs": [],
   "source": []
  },
  {
   "cell_type": "code",
   "execution_count": 29,
   "metadata": {},
   "outputs": [
    {
     "name": "stdout",
     "output_type": "stream",
     "text": [
      "__get__...\n",
      "self : \t\t <__main__.Desc object at 0x000002AB31FB5F98>\n",
      "instance : \t None\n",
      "owner : \t <class '__main__.TestDesc'>\n",
      "======================================== \n",
      "\n"
     ]
    }
   ],
   "source": [
    "TestDesc.__dict__['x'].__get__(None, TestDesc)"
   ]
  },
  {
   "cell_type": "markdown",
   "metadata": {},
   "source": [
    "## 装饰器之property\n",
    "\n",
    "Python 总共有三个内置装饰器：\n",
    "\n",
    "- staticmethod\n",
    "- classmethod\n",
    "- property\n",
    "\n",
    "通常，在我们访问属性和进行属性赋值的时候，都要和类和实例的 \\_\\_dict__ 打交道。但如果想要规范属性的访问，有两种方式：**数据描述符**、 **property() 函数**。但是描述符比较复杂，新手们不妨试试 property() 。\n"
   ]
  },
  {
   "cell_type": "code",
   "execution_count": 30,
   "metadata": {},
   "outputs": [],
   "source": [
    "# 首先我们看看原始的储存数据的方法\n",
    "\n",
    "class Stu():\n",
    "    \n",
    "    def __init__(self, score):\n",
    "        self._score = score"
   ]
  },
  {
   "cell_type": "code",
   "execution_count": 31,
   "metadata": {},
   "outputs": [],
   "source": [
    "s = Stu(90)"
   ]
  },
  {
   "cell_type": "code",
   "execution_count": 32,
   "metadata": {},
   "outputs": [
    {
     "name": "stdout",
     "output_type": "stream",
     "text": [
      "{'_score': 90}\n"
     ]
    },
    {
     "data": {
      "text/plain": [
       "90"
      ]
     },
     "execution_count": 32,
     "metadata": {},
     "output_type": "execute_result"
    }
   ],
   "source": [
    "print(s.__dict__)\n",
    "s._score"
   ]
  },
  {
   "cell_type": "code",
   "execution_count": 33,
   "metadata": {},
   "outputs": [],
   "source": [
    "# 假设我们希望在每次对数据进行赋值的时候进行某种操作：同时计算另一个值或者对输入的数据进行判断，要怎么办呢？\n",
    "\n",
    "class Stu():\n",
    "    \n",
    "    def __init__(self):\n",
    "        self._s = 100\n",
    "        self._ss = self._s/10\n",
    "        \n",
    "    def gets(self):\n",
    "        return self._s\n",
    "    \n",
    "    def sets(self, score):\n",
    "        self._s = score\n",
    "        \n",
    "    def dels(self):\n",
    "        del self\n",
    "\n",
    "s = Stu()      "
   ]
  },
  {
   "cell_type": "code",
   "execution_count": 34,
   "metadata": {},
   "outputs": [
    {
     "name": "stdout",
     "output_type": "stream",
     "text": [
      "90\n",
      "10.0\n"
     ]
    }
   ],
   "source": [
    "s.sets(90)\n",
    "print(s._s)\n",
    "print(s._ss)"
   ]
  },
  {
   "cell_type": "code",
   "execution_count": 35,
   "metadata": {},
   "outputs": [],
   "source": [
    "# 不妨想想，其实我们只要让函数在每次赋值的时候有一个“同步”操作就可以了，是不是和数据描述符的功能很像？\n",
    "\n",
    "class Stu():\n",
    "    \n",
    "    def __init__(self):\n",
    "        self._s = 100\n",
    "        self._ss = self._s/10\n",
    "        \n",
    "    def gets(self):\n",
    "        return self._s\n",
    "    \n",
    "    def sets(self, score):\n",
    "        self._s = score\n",
    "        self._ss = score/10\n",
    "        \n",
    "    def dels(self):\n",
    "        del self\n",
    "        \n",
    "    def getss(self):\n",
    "        return self._ss\n",
    "    \n",
    "    def setss(self, score):\n",
    "        self._ss = score\n",
    "        self._s = score*10\n",
    "        \n",
    "    def delss(self):\n",
    "        del self\n",
    "\n",
    "    # 到这里为止一切都没有改变，我们加上下面这句\n",
    "    y = property(gets, sets, dels, \"I'm a property\")\n",
    "    z = property(getss, setss, delss, \"I'm a property\")"
   ]
  },
  {
   "cell_type": "code",
   "execution_count": 36,
   "metadata": {},
   "outputs": [
    {
     "data": {
      "text/plain": [
       "9.0"
      ]
     },
     "execution_count": 36,
     "metadata": {},
     "output_type": "execute_result"
    }
   ],
   "source": [
    "# 现在我们可以像正常的实例属性一样访问y，但实际上y的内容存在另一个实例属性中，故对数据的操作得到了控制\n",
    "s = Stu()\n",
    "s.y = 90\n",
    "s.z"
   ]
  },
  {
   "cell_type": "code",
   "execution_count": 37,
   "metadata": {},
   "outputs": [],
   "source": [
    "# 我们可以看到property函数本身是一种装饰符，于是我们可以用相同的简化方式\n",
    "\n",
    "class Stuu():\n",
    "    \n",
    "    def __init__(self):\n",
    "        self._s = 100\n",
    "        self._ss = self._s/10\n",
    "        \n",
    "    @property\n",
    "    def x(self):\n",
    "        return self._s\n",
    "    \n",
    "    # @property.setter\n",
    "    "
   ]
  },
  {
   "cell_type": "markdown",
   "metadata": {},
   "source": [
    "现在我们已经对 property 的使用有了一个大概的印象。但这个东西到底是什么呢？我们可以来看看他的 python 等效实现代码："
   ]
  },
  {
   "cell_type": "code",
   "execution_count": 38,
   "metadata": {},
   "outputs": [
    {
     "ename": "SyntaxError",
     "evalue": "invalid character in identifier (<ipython-input-38-afbd2855d318>, line 24)",
     "output_type": "error",
     "traceback": [
      "\u001b[1;36m  File \u001b[1;32m\"<ipython-input-38-afbd2855d318>\"\u001b[1;36m, line \u001b[1;32m24\u001b[0m\n\u001b[1;33m    def __delete__(self, obj):·\u001b[0m\n\u001b[1;37m                              ^\u001b[0m\n\u001b[1;31mSyntaxError\u001b[0m\u001b[1;31m:\u001b[0m invalid character in identifier\n"
     ]
    }
   ],
   "source": [
    "class Property(object):\n",
    "    \"Emulate PyProperty_Type() in Objects/descrobject.c\"\n",
    "\n",
    "    def __init__(self, fget=None, fset=None, fdel=None, doc=None):\n",
    "        self.fget = fget\n",
    "        self.fset = fset\n",
    "        self.fdel = fdel\n",
    "        if doc is None and fget is not None:\n",
    "            doc = fget.__doc__\n",
    "        self.__doc__ = doc\n",
    "\n",
    "    def __get__(self, obj, objtype=None):\n",
    "        if obj is None:\n",
    "            return self\n",
    "        if self.fget is None:\n",
    "            raise AttributeError(\"unreadable attribute\")\n",
    "        return self.fget(obj)\n",
    "\n",
    "    def __set__(self, obj, value):\n",
    "        if self.fset is None:\n",
    "            raise AttributeError(\"can't set attribute\")\n",
    "        self.fset(obj, value)\n",
    "\n",
    "    def __delete__(self, obj):·\n",
    "        if self.fdel is None:\n",
    "            raise AttributeError(\"can't delete attribute\")\n",
    "        self.fdel(obj)\n",
    "\n",
    "    def getter(self, fget):\n",
    "        return type(self)(fget, self.fset, self.fdel, self.__doc__)\n",
    "\n",
    "    def setter(self, fset):\n",
    "        return type(self)(self.fget, fset, self.fdel, self.__doc__)\n",
    "\n",
    "    def deleter(self, fdel):\n",
    "        return type(self)(self.fget, self.fset, fdel, self.__doc__)"
   ]
  },
  {
   "cell_type": "markdown",
   "metadata": {},
   "source": [
    "明白了吧！property 本质上是一个数据描述符（定义见上文）。"
   ]
  },
  {
   "cell_type": "markdown",
   "metadata": {},
   "source": [
    "## 产生器（Generator）\n",
    "\n",
    "产生器本身就是一种迭代器（可以使用 <font face=\"consolas\">next</font> 方法）。我们有两种方法实现产生器：\n",
    "\n",
    "- 产生器表达式\n",
    "- 产生器函数\n"
   ]
  },
  {
   "cell_type": "markdown",
   "metadata": {},
   "source": [
    "### 产生器表达式（generator expression）"
   ]
  },
  {
   "cell_type": "code",
   "execution_count": 39,
   "metadata": {},
   "outputs": [
    {
     "data": {
      "text/plain": [
       "generator"
      ]
     },
     "execution_count": 39,
     "metadata": {},
     "output_type": "execute_result"
    }
   ],
   "source": [
    "singular = ('dog', 'cat', 'bird')\n",
    "plural = (string + 's' for string in singular) # 注意，如果此处使用中括号 [] ，那么最终将生成list\n",
    "type(plural)"
   ]
  },
  {
   "cell_type": "markdown",
   "metadata": {},
   "source": [
    "### 产生器函数（generator function）\n",
    "\n",
    "利用表达式来生成产生器，其使用方法更像一种定式，不够灵活。采用函数来生成产生器有更大的灵活性。"
   ]
  },
  {
   "cell_type": "code",
   "execution_count": 40,
   "metadata": {},
   "outputs": [
    {
     "data": {
      "text/plain": [
       "generator"
      ]
     },
     "execution_count": 40,
     "metadata": {},
     "output_type": "execute_result"
    }
   ],
   "source": [
    "def g(x):\n",
    "    while x < 100:\n",
    "        yield x\n",
    "        x += 1\n",
    "        \n",
    "gen = g(0)\n",
    "type(gen)"
   ]
  },
  {
   "cell_type": "markdown",
   "metadata": {},
   "source": [
    "明明知道可以用迭代器完成的任务，都可以用列表加循环来完成，那为什么还要用**迭代器/产生器**来完成呢？\n",
    "\n",
    "这是由于迭代器只描述了一种产生数据的法则，在程序运行中不断产生数据，并且用完即丢，这将极大程度上减少对内存空间的使用。"
   ]
  },
  {
   "cell_type": "markdown",
   "metadata": {},
   "source": [
    "## 递归\n",
    "\n",
    "递归本身很好理解，即函数调用了自己本身。如果我们把函数想象成同层面一系列操作的集合，那么递归调用就会一直增加层数。相当于在内存中这开了一个栈（先进先出的数据结构，更多内容请参考《数据结构》一书），在运行的过程中不断加深，等在某个地方触底之后再回到上一层继续执行操作。"
   ]
  },
  {
   "cell_type": "code",
   "execution_count": 41,
   "metadata": {},
   "outputs": [
    {
     "data": {
      "text/plain": [
       "4"
      ]
     },
     "execution_count": 41,
     "metadata": {},
     "output_type": "execute_result"
    }
   ],
   "source": [
    "# 先通过一个简单的例子来说明递归在 Python 中是如何实现的\n",
    "\n",
    "def x(t):\n",
    "    if t == 0:\n",
    "        return 1\n",
    "    else:\n",
    "        return 2 * x(t-1)\n",
    "\n",
    "x(2)"
   ]
  },
  {
   "cell_type": "markdown",
   "metadata": {},
   "source": [
    "我们可以看到这是一个递归，在写递归函数的时候，最重要的是必须写明**边界条件**，也就是递归调用在什么时候结束。如果没有停止条件，那么程序会不断调用自己，栈不断往下挖，这将陷入死循环。"
   ]
  },
  {
   "cell_type": "markdown",
   "metadata": {},
   "source": [
    "# 练习题\n",
    "\n",
    "## Exercise 1"
   ]
  },
  {
   "cell_type": "code",
   "execution_count": 42,
   "metadata": {},
   "outputs": [],
   "source": [
    "# 利用递归算法实现 Fibonacci 数列\n",
    "\n",
    "def Fibo(n):\n",
    "    x0 = 0\n",
    "    x1 = 1\n",
    "    if n >= 2: return Fibo(n-1) + Fibo(n-2)\n",
    "    elif n == 1: return x1\n",
    "    else: return x0"
   ]
  },
  {
   "cell_type": "markdown",
   "metadata": {},
   "source": [
    "个人习惯是先写好动态方程，然后再补全停止条件；因为很难一开始就写全所有的停止条件。"
   ]
  },
  {
   "cell_type": "code",
   "execution_count": 43,
   "metadata": {},
   "outputs": [
    {
     "data": {
      "text/plain": [
       "34"
      ]
     },
     "execution_count": 43,
     "metadata": {},
     "output_type": "execute_result"
    }
   ],
   "source": [
    "Fibo(9)"
   ]
  },
  {
   "cell_type": "markdown",
   "metadata": {},
   "source": [
    "## Exercise 2\n",
    "\n",
    "Complete the following code, and test it using this csv file, which we assume that you’ve put in your current\n",
    "working directory"
   ]
  },
  {
   "cell_type": "code",
   "execution_count": 44,
   "metadata": {},
   "outputs": [
    {
     "name": "stdout",
     "output_type": "stream",
     "text": [
      "new york: 8244910\n",
      "los angeles: 3819702\n",
      "chicago: 2707120\n",
      "houston: 2145146\n",
      "philadelphia: 1536471\n",
      "phoenix: 1469471\n",
      "san antonio: 1359758\n",
      "san diego: 1326179\n",
      "dallas: 1223229\n"
     ]
    }
   ],
   "source": [
    "def column_iterator(target_file, column_number):\n",
    "    \"\"\"A generator function for CSV files.\n",
    "    When called with a file name target_file (string) and column number\n",
    "    column_number (integer), the generator function returns a generator\n",
    "    that steps through the elements of column column_number in file\n",
    "    target_file.\n",
    "    \"\"\"\n",
    "    f = open(target_file, 'r') # 只读文件\n",
    "    for line in f:\n",
    "        yield line.split('\\n')[column_number - 1] # 如果把 \\n 换成别的不会出现的字符，输出会增加换行\n",
    "    f.close()\n",
    "\n",
    "\n",
    "\n",
    "dates = column_iterator('us_cities.csv', 1)\n",
    "for date in dates:\n",
    "    print(date)"
   ]
  },
  {
   "cell_type": "markdown",
   "metadata": {},
   "source": [
    "## Exercise 3"
   ]
  },
  {
   "cell_type": "code",
   "execution_count": 45,
   "metadata": {},
   "outputs": [],
   "source": [
    "def iterator(file):\n",
    "    f = open(file)\n",
    "    for line in f:\n",
    "        try: yield int(line.split('\\n')[0])\n",
    "        except ValueError:\n",
    "            print('Not integer!')\n",
    "    f.close()"
   ]
  },
  {
   "cell_type": "code",
   "execution_count": 46,
   "metadata": {},
   "outputs": [
    {
     "name": "stdout",
     "output_type": "stream",
     "text": [
      "Not integer!\n",
      "Not integer!\n"
     ]
    },
    {
     "data": {
      "text/plain": [
       "39"
      ]
     },
     "execution_count": 46,
     "metadata": {},
     "output_type": "execute_result"
    }
   ],
   "source": [
    "it = iterator('numbers.txt')\n",
    "sum(x for x in it)"
   ]
  }
 ],
 "metadata": {
  "kernelspec": {
   "display_name": "Python 3",
   "language": "python",
   "name": "python3"
  },
  "language_info": {
   "codemirror_mode": {
    "name": "ipython",
    "version": 3
   },
   "file_extension": ".py",
   "mimetype": "text/x-python",
   "name": "python",
   "nbconvert_exporter": "python",
   "pygments_lexer": "ipython3",
   "version": "3.7.0"
  }
 },
 "nbformat": 4,
 "nbformat_minor": 2
}
